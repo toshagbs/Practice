{
  "cells": [
    {
      "cell_type": "markdown",
      "metadata": {
        "id": "M-DGa20PaHnu"
      },
      "source": [
        "#Задача 1\n",
        "Написать функцию на вход которой подается строка, состоящая из латинских букв.\n",
        "Функция должна вернуть количество гласных букв (a, e, i, o, u) в этой строке. Написать тесты для кода"
      ]
    },
    {
      "cell_type": "code",
      "execution_count": 5,
      "metadata": {
        "id": "XvX8X_JJ6PCb"
      },
      "outputs": [],
      "source": [
        "vowels = \"aeiou\"\n",
        "def count_vowels(data):\n",
        "    counter = 0\n",
        "    for i in data:\n",
        "        if i in vowels:\n",
        "            counter += 1\n",
        "    return counter\n",
        "\n",
        "assert count_vowels(\"dgokod\") == 2\n",
        "assert count_vowels(\"vvvvvvv\") == 0\n",
        "assert count_vowels(\"dfgodfhdifii\") == 4"
      ]
    },
    {
      "cell_type": "markdown",
      "metadata": {
        "id": "t2ClV_Y0bbr6"
      },
      "source": [
        "# Задача 2\n",
        "Написать функцию на вход, которой подается строка. Функция должна вернуть true, если\n",
        "каждый символ в строке встречается только 1 раз, иначе должна вернуть false. Написать тесты для кода"
      ]
    },
    {
      "cell_type": "code",
      "execution_count": 6,
      "metadata": {
        "id": "FppbECao6VIz"
      },
      "outputs": [],
      "source": [
        "def count_unique_symb(data):\n",
        "    for i in data:\n",
        "        if len(set(data)) == len(data):\n",
        "            return True\n",
        "    return False\n",
        "\n",
        "assert count_unique_symb(\"123456\") == True\n",
        "assert count_unique_symb(\"1234566\") == False"
      ]
    },
    {
      "cell_type": "markdown",
      "metadata": {
        "id": "udRiIK1cdt6E"
      },
      "source": [
        "# Задача 3\n",
        "Написать функцию, которая принимает положительное число и возвращает количество\n",
        "бит равных 1 в этом числе. Написать тесты для кода"
      ]
    },
    {
      "cell_type": "code",
      "execution_count": 10,
      "metadata": {
        "id": "6tkfDJRz6dp_"
      },
      "outputs": [
        {
          "name": "stdout",
          "output_type": "stream",
          "text": [
            "6\n"
          ]
        }
      ],
      "source": [
        "def count_num_bits(num):\n",
        "    return(bin(num).count('1'))\n",
        "\n",
        "assert count_num_bits(20) == 2\n",
        "assert count_num_bits(156) == 4\n",
        "assert count_num_bits(1111) == 6"
      ]
    },
    {
      "cell_type": "markdown",
      "metadata": {
        "id": "26dDUz-Ae17N"
      },
      "source": [
        "# Задача 4\n",
        "Написать функцию, которая принимает положительное число. Функция должна вернуть то,\n",
        "сколько раз необходимо перемножать цифры числа или результат перемножения, чтобы\n",
        "получилось число состоящее из одной цифры.\n",
        "Например, для входного числа:\n",
        "· 39 функция должна вернуть 3, так как 3*9=27 => 2*7=14 => 1*4=4\n",
        "· 4 функция должна вернуть 0, так как число уже состоит из одной цифры\n",
        "· 999 функция должна вернуть 4, так как 9*9*9=729 => 7*2*9=126 => 1*2*6=12 =>\n",
        "1*2=2. Написать тесты для кода"
      ]
    },
    {
      "cell_type": "code",
      "execution_count": 17,
      "metadata": {
        "id": "BH1A_Mgi6i4G"
      },
      "outputs": [
        {
          "name": "stdout",
          "output_type": "stream",
          "text": [
            "0\n"
          ]
        }
      ],
      "source": [
        "from functools import reduce\n",
        "\n",
        "def magic(n):\n",
        "    count = 0\n",
        "    while n > 9:\n",
        "        n = reduce(lambda x, y: x * int(y), str(n), 1)\n",
        "        count += 1\n",
        "    return count\n",
        "\n",
        "assert magic(1) == 0\n",
        "assert magic(39) == 3\n",
        "assert magic(999) == 4\n",
        "assert magic(1234) == 2"
      ]
    },
    {
      "cell_type": "markdown",
      "metadata": {
        "id": "0nS-kIa8g8vd"
      },
      "source": [
        "# Задача 5\n",
        "Написать функцию, которая принимает два целочисленных вектора одинаковой длины и\n",
        "возвращает среднеквадратическое отклонение двух векторов. Написать тесты для кода"
      ]
    },
    {
      "cell_type": "code",
      "execution_count": 28,
      "metadata": {
        "id": "8iphx4LM6xbx"
      },
      "outputs": [
        {
          "name": "stdout",
          "output_type": "stream",
          "text": [
            "1.5\n"
          ]
        }
      ],
      "source": [
        "def mse(pred, true):\n",
        "    sum = 0\n",
        "    n = len(pred)\n",
        "    for x, y in zip(pred, true):\n",
        "        sum += (x - y) ** 2\n",
        "    return sum / n\n",
        "\n",
        "assert mse([1, 2, 3, 4], [2, 2, 2, 2]) == 1.5\n"
      ]
    },
    {
      "cell_type": "markdown",
      "metadata": {
        "id": "vpIPKL439zkw"
      },
      "source": [
        "# Задача 6\n",
        "Написать функцию, принимающая целое положительное число. Функция должна вернуть\n",
        "строку вида “(n1**p1)(n2**p2)…(nk**pk)” представляющая разложение числа на простые\n",
        "множители (если pi == 1, то выводить только ni).\n",
        "Например, для числа 86240 функция должна вернуть “(2**5)(5)(7**2)(11)”. Написать тесты для кода"
      ]
    },
    {
      "cell_type": "code",
      "execution_count": 47,
      "metadata": {
        "id": "pFebmcZk94Jw"
      },
      "outputs": [
        {
          "name": "stdout",
          "output_type": "stream",
          "text": [
            "(2**5)(5)(7**2)(11)\n",
            "(2**2)(271)\n",
            "(2**3)(3)(7**2)(19)"
          ]
        }
      ],
      "source": [
        "def count_prime_factors(data):\n",
        "    factors = []\n",
        "    i = 2\n",
        "    \n",
        "    while i * i <= data:\n",
        "        while data % i == 0:\n",
        "            factors.append(i)\n",
        "            data //= i\n",
        "        i += 1\n",
        "    if data > 1:\n",
        "        factors.append(int(data))\n",
        "        \n",
        "    i = 0\n",
        "    while i < len(factors):\n",
        "        if factors.count(factors[i]) > 1: \n",
        "            print('(' + str(factors[i]) + '**'+ str(factors.count(factors[i]))  + ')', end = '')\n",
        "            i += factors.count(factors[i])\n",
        "        else: \n",
        "            print('(' + str(factors[i]) + ')', end = '')\n",
        "            i += 1\n",
        "\n",
        "data = 86240\n",
        "count_prime_factors(data)\n",
        "print('\\r')\n",
        "data2 = 1084\n",
        "count_prime_factors(data2)\n",
        "print('\\r')\n",
        "data3 = 22344\n",
        "count_prime_factors(data3)\n"
      ]
    },
    {
      "cell_type": "markdown",
      "metadata": {
        "id": "ps2s0BudX7A2"
      },
      "source": [
        "# Задача 7\n",
        "Написать функцию, принимающая целое число n, задающее количество кубиков. Функция\n",
        "должна определить, можно ли из данного кол-ва кубиков построить пирамиду, то есть\n",
        "можно ли представить число n как 1^2+2^2+3^2+…+k^2. Если можно, то функция должна\n",
        "вернуть k, иначе строку “It is impossible”. Написать тесты для кода"
      ]
    },
    {
      "cell_type": "code",
      "execution_count": 50,
      "metadata": {
        "id": "3YPjEXxhX_YT"
      },
      "outputs": [],
      "source": [
        "def pyramid(number):\n",
        "    k = 1\n",
        "    res = 0\n",
        "    while number > res:\n",
        "        res += k * k\n",
        "        if res == number:\n",
        "            return k\n",
        "        k += 1\n",
        "    return \"It is impossible\"\n",
        "\n",
        "assert pyramid(3) == \"It is impossible\"\n",
        "assert pyramid(14) == 3"
      ]
    },
    {
      "cell_type": "markdown",
      "metadata": {
        "id": "KeKgmIdAQMEJ"
      },
      "source": [
        "# Задача 8\n",
        "Функция принимает на вход положительное число и определяет является ли оно сбалансированным, т.е. сумма цифр до средних равна сумме цифр после. Средними в случае нечетного числа цифр считать одну цифру, в случае четного - две средних. Написать тесты для кода"
      ]
    },
    {
      "cell_type": "code",
      "execution_count": 76,
      "metadata": {
        "id": "gMAAqtqlQrZt"
      },
      "outputs": [],
      "source": [
        "def balance(s):\n",
        "    s = str(s)\n",
        "    lsum = 0\n",
        "    rsum = 0\n",
        "    for i in range(int(len(s) // 2)): \n",
        "        lsum = lsum + int(s[i])\n",
        "        rsum = (rsum +\n",
        "                    int(s[len(s) - 1 - i]))\n",
        "    return lsum == rsum\n",
        "\n",
        "assert balance(12341234) == True\n",
        "assert balance(11112) == False\n",
        "assert balance(111) == True"
      ]
    }
  ],
  "metadata": {
    "colab": {
      "provenance": []
    },
    "kernelspec": {
      "display_name": "Python 3",
      "name": "python3"
    },
    "language_info": {
      "codemirror_mode": {
        "name": "ipython",
        "version": 3
      },
      "file_extension": ".py",
      "mimetype": "text/x-python",
      "name": "python",
      "nbconvert_exporter": "python",
      "pygments_lexer": "ipython3",
      "version": "undefined.undefined.undefined"
    }
  },
  "nbformat": 4,
  "nbformat_minor": 0
}
